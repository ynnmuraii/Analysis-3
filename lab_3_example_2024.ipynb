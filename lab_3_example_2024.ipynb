{
 "cells": [
  {
   "cell_type": "markdown",
   "metadata": {
    "heading_collapsed": true
   },
   "source": [
    "### Библиотеки / данные"
   ]
  },
  {
   "cell_type": "code",
   "execution_count": 111,
   "metadata": {
    "hidden": true
   },
   "outputs": [],
   "source": [
    "import math\n",
    "import numpy as np\n",
    "import pandas as pd\n",
    "import matplotlib.pyplot as plt\n",
    "import scipy\n",
    "from scipy import stats\n",
    "from scipy.stats import norm\n",
    "###  see \n",
    "### https://docs.scipy.org/doc/scipy/reference/stats.html"
   ]
  },
  {
   "cell_type": "code",
   "execution_count": 112,
   "metadata": {},
   "outputs": [
    {
     "data": {
      "image/png": "[encoded data removed]",
      "text/plain": [
       "<Figure size 640x480 with 1 Axes>"
      ]
     },
     "metadata": {},
     "output_type": "display_data"
    }
   ],
   "source": [
    "nn=30\n",
    "a=1\n",
    "sigma=2\n",
    "####################\n",
    "k_bins=3\n",
    "X=np.random.normal(loc=a,scale=sigma,size=nn)\n",
    "f_obs, bins, ignored = plt.hist(X,k_bins)"
   ]
  },
  {
   "cell_type": "code",
   "execution_count": 113,
   "metadata": {},
   "outputs": [
    {
     "name": "stdout",
     "output_type": "stream",
     "text": [
      "ShapiroResult(statistic=np.float64(0.9655507193367114), pvalue=np.float64(0.4255989890405987))\n"
     ]
    }
   ],
   "source": [
    "### Проверяем заведомо верную гипотезу H_0 \n",
    "### H_0: X ~ Normal distribution\n",
    "### H_1: not H_0\n",
    "############################################\n",
    "### If pvalue>alpha => H_0 adopted\n",
    "### If pvalue<=alpha => H_0 rejected and H_1 adopted\n",
    "rez=stats.shapiro(X)\n",
    "print(rez)"
   ]
  },
  {
   "cell_type": "code",
   "execution_count": 114,
   "metadata": {},
   "outputs": [
    {
     "name": "stdout",
     "output_type": "stream",
     "text": [
      "0.1220000000000001\n"
     ]
    }
   ],
   "source": [
    "\n",
    "\n",
    "a_chi = 0\n",
    "for i in range(1000):\n",
    "    chi2 = np.random.chisquare(df = 35, size = nn)\n",
    "    rez = stats.shapiro(chi2)\n",
    "    if 0.05 > rez[1]:\n",
    "        a_chi += 1/1000\n",
    "        \n",
    "print(a_chi)\n"
   ]
  },
  {
   "cell_type": "code",
   "execution_count": 115,
   "metadata": {},
   "outputs": [
    {
     "name": "stdout",
     "output_type": "stream",
     "text": [
      "0.0014650819492641773\n",
      "0.07621927698185607\n",
      "3.679215873206225e-05\n",
      "7.413609326961034e-06\n",
      "0.03454632111721634\n",
      "0.020150390450030076\n",
      "0.09268964523032736\n",
      "0.5928583884068543\n",
      "0.061956834491383894\n",
      "0.6882445629006578\n",
      "0.053334363903827765\n",
      "0.40795421954405725\n",
      "0.48281792053328154\n",
      "0.12559226025285553\n",
      "0.0067846944076413495\n",
      "0.03652604582429484\n",
      "0.6839183060524018\n",
      "0.3779639676569434\n",
      "0.0019237929646382743\n",
      "0.23343877715757205\n",
      "0.13662037382800646\n",
      "0.7546653275817483\n",
      "0.9611973524301596\n",
      "0.01655524669129886\n",
      "0.32415826993157665\n"
     ]
    }
   ],
   "source": [
    "### Проверяем заведомо неверную гипотезу H_0 \n",
    "for i in range(25):\n",
    "    X=np.random.chisquare(df=i+1,size=nn)\n",
    "    rez=stats.shapiro(X)\n",
    "    print(rez.pvalue)"
   ]
  },
  {
   "cell_type": "code",
   "execution_count": 116,
   "metadata": {},
   "outputs": [
    {
     "name": "stdout",
     "output_type": "stream",
     "text": [
      "0.32415826993157665\n",
      "0.32415826993157665\n",
      "0.32415826993157665\n",
      "0.32415826993157665\n",
      "0.32415826993157665\n",
      "0.32415826993157665\n",
      "0.32415826993157665\n",
      "0.32415826993157665\n",
      "0.32415826993157665\n",
      "0.32415826993157665\n",
      "0.32415826993157665\n",
      "0.32415826993157665\n",
      "0.32415826993157665\n",
      "0.32415826993157665\n",
      "0.32415826993157665\n",
      "0.32415826993157665\n",
      "0.32415826993157665\n",
      "0.32415826993157665\n",
      "0.32415826993157665\n",
      "0.32415826993157665\n",
      "0.32415826993157665\n",
      "0.32415826993157665\n",
      "0.32415826993157665\n",
      "0.32415826993157665\n",
      "0.32415826993157665\n",
      "0.32415826993157665\n",
      "0.32415826993157665\n",
      "0.32415826993157665\n",
      "0.32415826993157665\n",
      "0.32415826993157665\n",
      "0.32415826993157665\n",
      "0.32415826993157665\n",
      "0.32415826993157665\n",
      "0.32415826993157665\n",
      "0.32415826993157665\n",
      "0.32415826993157665\n",
      "0.32415826993157665\n",
      "0.32415826993157665\n",
      "0.32415826993157665\n",
      "0.32415826993157665\n",
      "0.32415826993157665\n",
      "0.32415826993157665\n",
      "0.32415826993157665\n",
      "0.32415826993157665\n",
      "0.32415826993157665\n",
      "0.32415826993157665\n",
      "0.32415826993157665\n",
      "0.32415826993157665\n",
      "0.32415826993157665\n",
      "0.32415826993157665\n",
      "0.32415826993157665\n",
      "0.32415826993157665\n",
      "0.32415826993157665\n",
      "0.32415826993157665\n",
      "0.32415826993157665\n",
      "0.32415826993157665\n",
      "0.32415826993157665\n",
      "0.32415826993157665\n",
      "0.32415826993157665\n",
      "0.32415826993157665\n",
      "0.32415826993157665\n",
      "0.32415826993157665\n",
      "0.32415826993157665\n",
      "0.32415826993157665\n",
      "0.32415826993157665\n",
      "0.32415826993157665\n",
      "0.32415826993157665\n",
      "0.32415826993157665\n",
      "0.32415826993157665\n",
      "0.32415826993157665\n",
      "0.32415826993157665\n",
      "0.32415826993157665\n",
      "0.32415826993157665\n",
      "0.32415826993157665\n",
      "0.32415826993157665\n",
      "0.32415826993157665\n",
      "0.32415826993157665\n",
      "0.32415826993157665\n",
      "0.32415826993157665\n",
      "0.32415826993157665\n",
      "0.32415826993157665\n",
      "0.32415826993157665\n",
      "0.32415826993157665\n",
      "0.32415826993157665\n",
      "0.32415826993157665\n",
      "0.32415826993157665\n",
      "0.32415826993157665\n",
      "0.32415826993157665\n",
      "0.32415826993157665\n",
      "0.32415826993157665\n",
      "0.32415826993157665\n",
      "0.32415826993157665\n",
      "0.32415826993157665\n",
      "0.32415826993157665\n",
      "0.32415826993157665\n",
      "0.32415826993157665\n",
      "0.32415826993157665\n",
      "0.32415826993157665\n",
      "0.32415826993157665\n",
      "0.32415826993157665\n",
      "0.32415826993157665\n",
      "0.32415826993157665\n",
      "0.32415826993157665\n",
      "0.32415826993157665\n",
      "0.32415826993157665\n",
      "0.32415826993157665\n",
      "0.32415826993157665\n",
      "0.32415826993157665\n",
      "0.32415826993157665\n",
      "0.32415826993157665\n",
      "0.32415826993157665\n",
      "0.32415826993157665\n",
      "0.32415826993157665\n",
      "0.32415826993157665\n",
      "0.32415826993157665\n",
      "0.32415826993157665\n",
      "0.32415826993157665\n",
      "0.32415826993157665\n",
      "0.32415826993157665\n",
      "0.32415826993157665\n",
      "0.32415826993157665\n",
      "0.32415826993157665\n",
      "0.32415826993157665\n",
      "0.32415826993157665\n",
      "0.32415826993157665\n",
      "0.32415826993157665\n",
      "0.32415826993157665\n",
      "0.32415826993157665\n",
      "0.32415826993157665\n",
      "0.32415826993157665\n",
      "0.32415826993157665\n",
      "0.32415826993157665\n",
      "0.32415826993157665\n",
      "0.32415826993157665\n",
      "0.32415826993157665\n",
      "0.32415826993157665\n",
      "0.32415826993157665\n",
      "0.32415826993157665\n",
      "0.32415826993157665\n",
      "0.32415826993157665\n",
      "0.32415826993157665\n",
      "0.32415826993157665\n",
      "0.32415826993157665\n",
      "0.32415826993157665\n",
      "0.32415826993157665\n",
      "0.32415826993157665\n",
      "0.32415826993157665\n",
      "0.32415826993157665\n",
      "0.32415826993157665\n",
      "0.32415826993157665\n",
      "0.32415826993157665\n",
      "0.32415826993157665\n",
      "0.32415826993157665\n",
      "0.32415826993157665\n",
      "0.32415826993157665\n",
      "0.32415826993157665\n",
      "0.32415826993157665\n",
      "0.32415826993157665\n",
      "0.32415826993157665\n",
      "0.32415826993157665\n",
      "0.32415826993157665\n",
      "0.32415826993157665\n",
      "0.32415826993157665\n",
      "0.32415826993157665\n",
      "0.32415826993157665\n",
      "0.32415826993157665\n",
      "0.32415826993157665\n",
      "0.32415826993157665\n",
      "0.32415826993157665\n",
      "0.32415826993157665\n",
      "0.32415826993157665\n",
      "0.32415826993157665\n",
      "0.32415826993157665\n",
      "0.32415826993157665\n",
      "0.32415826993157665\n",
      "0.32415826993157665\n",
      "0.32415826993157665\n",
      "0.32415826993157665\n",
      "0.32415826993157665\n",
      "0.32415826993157665\n",
      "0.32415826993157665\n",
      "0.32415826993157665\n",
      "0.32415826993157665\n",
      "0.32415826993157665\n",
      "0.32415826993157665\n",
      "0.32415826993157665\n",
      "0.32415826993157665\n",
      "0.32415826993157665\n",
      "0.32415826993157665\n",
      "0.32415826993157665\n",
      "0.32415826993157665\n",
      "0.32415826993157665\n",
      "0.32415826993157665\n",
      "0.32415826993157665\n",
      "0.32415826993157665\n",
      "0.32415826993157665\n",
      "0.32415826993157665\n",
      "0.32415826993157665\n",
      "0.32415826993157665\n",
      "0.32415826993157665\n",
      "0.32415826993157665\n",
      "0.32415826993157665\n",
      "0.32415826993157665\n",
      "0.32415826993157665\n",
      "0.32415826993157665\n",
      "0.32415826993157665\n",
      "0.32415826993157665\n",
      "0.32415826993157665\n",
      "0.32415826993157665\n",
      "0.32415826993157665\n",
      "0.32415826993157665\n",
      "0.32415826993157665\n",
      "0.32415826993157665\n",
      "0.32415826993157665\n",
      "0.32415826993157665\n",
      "0.32415826993157665\n",
      "0.32415826993157665\n",
      "0.32415826993157665\n",
      "0.32415826993157665\n",
      "0.32415826993157665\n",
      "0.32415826993157665\n",
      "0.32415826993157665\n",
      "0.32415826993157665\n",
      "0.32415826993157665\n",
      "0.32415826993157665\n",
      "0.32415826993157665\n",
      "0.32415826993157665\n",
      "0.32415826993157665\n",
      "0.32415826993157665\n",
      "0.32415826993157665\n",
      "0.32415826993157665\n",
      "0.32415826993157665\n",
      "0.32415826993157665\n",
      "0.32415826993157665\n",
      "0.32415826993157665\n",
      "0.32415826993157665\n",
      "0.32415826993157665\n",
      "0.32415826993157665\n",
      "0.32415826993157665\n",
      "0.32415826993157665\n",
      "0.32415826993157665\n",
      "0.32415826993157665\n",
      "0.32415826993157665\n",
      "0.32415826993157665\n",
      "0.32415826993157665\n",
      "0.32415826993157665\n",
      "0.32415826993157665\n",
      "0.32415826993157665\n",
      "0.32415826993157665\n",
      "0.32415826993157665\n"
     ]
    }
   ],
   "source": [
    "### Проверяем заведомо неверную гипотезу H_0 \n",
    "### Скорректировать код самостоятельно для случай, когда\n",
    "### X имеет равномерное распределение на интервале (0,1)\n",
    "### Оценить вероятность избежать ошибки второго рода \n",
    "### при заданной ошибке первого рода alpha\n",
    "for i in range(250):\n",
    "    ### выполнить розыгрыш выборки из раномерно распределенной СВ  \n",
    "    rez=stats.shapiro(X)\n",
    "    print(rez.pvalue)"
   ]
  },
  {
   "cell_type": "code",
   "execution_count": 117,
   "metadata": {},
   "outputs": [],
   "source": [
    "################ READ from the file"
   ]
  },
  {
   "cell_type": "code",
   "execution_count": 118,
   "metadata": {},
   "outputs": [],
   "source": [
    "import os\n",
    "#os.listdir()"
   ]
  },
  {
   "cell_type": "code",
   "execution_count": 119,
   "metadata": {},
   "outputs": [
    {
     "name": "stdout",
     "output_type": "stream",
     "text": [
      "C:\\Users\\Даня\\Desktop\\Study\\Programming\\Analysis-3\n"
     ]
    },
    {
     "data": {
      "text/plain": [
       "'C:\\\\Users\\\\Даня\\\\Desktop\\\\Study\\\\Programming\\\\Analysis-3'"
      ]
     },
     "execution_count": 119,
     "metadata": {},
     "output_type": "execute_result"
    }
   ],
   "source": [
    "print(os.getcwd())\n",
    "path=\"C:\\\\Users\\\\Даня\\\\Desktop\\\\Study\\\\Programming\\\\Analysis-3\"\n",
    "os.chdir(path)\n",
    "os.getcwd()\n",
    "###os.listdir(path)"
   ]
  },
  {
   "cell_type": "code",
   "execution_count": 120,
   "metadata": {},
   "outputs": [],
   "source": [
    "doc=pd.read_excel(\"PFO_doctors_2000_2018.xlsx\",sheet_name='PFO')\n"
   ]
  },
  {
   "cell_type": "code",
   "execution_count": 121,
   "metadata": {},
   "outputs": [
    {
     "data": {
      "text/html": [
       "<div>\n",
       "<style scoped>\n",
       "    .dataframe tbody tr th:only-of-type {\n",
       "        vertical-align: middle;\n",
       "    }\n",
       "\n",
       "    .dataframe tbody tr th {\n",
       "        vertical-align: top;\n",
       "    }\n",
       "\n",
       "    .dataframe thead th {\n",
       "        text-align: right;\n",
       "    }\n",
       "</style>\n",
       "<table border=\"1\" class=\"dataframe\">\n",
       "  <thead>\n",
       "    <tr style=\"text-align: right;\">\n",
       "      <th></th>\n",
       "      <th>год</th>\n",
       "      <th>Приволжский федеральный округ</th>\n",
       "      <th>Республика Татарстан</th>\n",
       "      <th>Оренбургская область</th>\n",
       "      <th>Самарская область</th>\n",
       "      <th>Саратовская область</th>\n",
       "      <th>Ульяновская область</th>\n",
       "    </tr>\n",
       "  </thead>\n",
       "  <tbody>\n",
       "    <tr>\n",
       "      <th>0</th>\n",
       "      <td>2000</td>\n",
       "      <td>45.9</td>\n",
       "      <td>44.2</td>\n",
       "      <td>48.7</td>\n",
       "      <td>47.8</td>\n",
       "      <td>49.4</td>\n",
       "      <td>36.6</td>\n",
       "    </tr>\n",
       "    <tr>\n",
       "      <th>1</th>\n",
       "      <td>2001</td>\n",
       "      <td>45.7</td>\n",
       "      <td>44.1</td>\n",
       "      <td>49.0</td>\n",
       "      <td>47.2</td>\n",
       "      <td>49.3</td>\n",
       "      <td>36.9</td>\n",
       "    </tr>\n",
       "    <tr>\n",
       "      <th>2</th>\n",
       "      <td>2002</td>\n",
       "      <td>46.0</td>\n",
       "      <td>44.7</td>\n",
       "      <td>49.4</td>\n",
       "      <td>47.6</td>\n",
       "      <td>49.8</td>\n",
       "      <td>37.4</td>\n",
       "    </tr>\n",
       "    <tr>\n",
       "      <th>3</th>\n",
       "      <td>2003</td>\n",
       "      <td>46.3</td>\n",
       "      <td>45.4</td>\n",
       "      <td>50.0</td>\n",
       "      <td>47.7</td>\n",
       "      <td>50.2</td>\n",
       "      <td>35.9</td>\n",
       "    </tr>\n",
       "    <tr>\n",
       "      <th>4</th>\n",
       "      <td>2004</td>\n",
       "      <td>46.6</td>\n",
       "      <td>44.9</td>\n",
       "      <td>50.3</td>\n",
       "      <td>48.6</td>\n",
       "      <td>50.7</td>\n",
       "      <td>35.7</td>\n",
       "    </tr>\n",
       "  </tbody>\n",
       "</table>\n",
       "</div>"
      ],
      "text/plain": [
       "    год  Приволжский федеральный округ  Республика Татарстан  \\\n",
       "0  2000                           45.9                  44.2   \n",
       "1  2001                           45.7                  44.1   \n",
       "2  2002                           46.0                  44.7   \n",
       "3  2003                           46.3                  45.4   \n",
       "4  2004                           46.6                  44.9   \n",
       "\n",
       "   Оренбургская область  Самарская область  Саратовская область  \\\n",
       "0                  48.7               47.8                 49.4   \n",
       "1                  49.0               47.2                 49.3   \n",
       "2                  49.4               47.6                 49.8   \n",
       "3                  50.0               47.7                 50.2   \n",
       "4                  50.3               48.6                 50.7   \n",
       "\n",
       "   Ульяновская область  \n",
       "0                 36.6  \n",
       "1                 36.9  \n",
       "2                 37.4  \n",
       "3                 35.9  \n",
       "4                 35.7  "
      ]
     },
     "execution_count": 121,
     "metadata": {},
     "output_type": "execute_result"
    }
   ],
   "source": [
    "doc.head()"
   ]
  },
  {
   "cell_type": "code",
   "execution_count": 122,
   "metadata": {},
   "outputs": [
    {
     "data": {
      "text/plain": [
       "0     44.2\n",
       "1     44.1\n",
       "2     44.7\n",
       "3     45.4\n",
       "4     44.9\n",
       "5     44.9\n",
       "6     45.2\n",
       "7     44.8\n",
       "8     43.0\n",
       "9     43.9\n",
       "10    44.2\n",
       "11    44.2\n",
       "12    41.9\n",
       "13    41.4\n",
       "14    42.1\n",
       "15    40.6\n",
       "16    40.2\n",
       "17    41.5\n",
       "18    42.2\n",
       "Name: Республика Татарстан, dtype: float64"
      ]
     },
     "execution_count": 122,
     "metadata": {},
     "output_type": "execute_result"
    }
   ],
   "source": [
    "doc[\"Республика Татарстан\"]"
   ]
  },
  {
   "cell_type": "code",
   "execution_count": 143,
   "metadata": {},
   "outputs": [
    {
     "data": {
      "text/plain": [
       "<matplotlib.legend.Legend at 0x27859a66090>"
      ]
     },
     "execution_count": 143,
     "metadata": {},
     "output_type": "execute_result"
    },
    {
     "data": {
      "image/png": "[encoded data removed]",
      "text/plain": [
       "<Figure size 640x480 with 1 Axes>"
      ]
     },
     "metadata": {},
     "output_type": "display_data"
    }
   ],
   "source": [
    "### Визуализация данных - графики\n",
    "plt.plot(doc[\"Республика Татарстан\"])\n",
    "plt.plot(doc[\"Саратовская область\"])\n",
    "plt.plot(doc[\"Самарская область\"])\n",
    "plt.legend([\"Татарстан\", \"Саратовская область\",\"Самарская область\"])"
   ]
  },
  {
   "cell_type": "code",
   "execution_count": null,
   "metadata": {},
   "outputs": [
    {
     "name": "stdout",
     "output_type": "stream",
     "text": [
      "Самара:  47.71578947368421\n",
      "ПФО:  46.473684210526315\n"
     ]
    },
    {
     "ename": "AttributeError",
     "evalue": "'Series' object has no attribute 'stats'",
     "output_type": "error",
     "traceback": [
      "\u001b[1;31m---------------------------------------------------------------------------\u001b[0m",
      "\u001b[1;31mAttributeError\u001b[0m                            Traceback (most recent call last)",
      "\u001b[1;32m~\\AppData\\Local\\Temp\\ipykernel_7904\\810276442.py\u001b[0m in \u001b[0;36m?\u001b[1;34m()\u001b[0m\n\u001b[0;32m      1\u001b[0m \u001b[0mprint\u001b[0m\u001b[1;33m(\u001b[0m\u001b[1;33mf\"\u001b[0m\u001b[1;33mСамара: \u001b[0m\u001b[1;33m\"\u001b[0m\u001b[1;33m,\u001b[0m \u001b[0mdoc\u001b[0m\u001b[1;33m[\u001b[0m\u001b[1;34m\"Самарская область\"\u001b[0m\u001b[1;33m]\u001b[0m\u001b[1;33m.\u001b[0m\u001b[0mmean\u001b[0m\u001b[1;33m(\u001b[0m\u001b[1;33m)\u001b[0m\u001b[1;33m)\u001b[0m\u001b[1;33m\u001b[0m\u001b[1;33m\u001b[0m\u001b[0m\n\u001b[0;32m      2\u001b[0m \u001b[0mprint\u001b[0m\u001b[1;33m(\u001b[0m\u001b[1;33mf\"\u001b[0m\u001b[1;33mПФО: \u001b[0m\u001b[1;33m\"\u001b[0m\u001b[1;33m,\u001b[0m \u001b[0mdoc\u001b[0m\u001b[1;33m[\u001b[0m\u001b[1;34m\"Приволжский федеральный округ\"\u001b[0m\u001b[1;33m]\u001b[0m\u001b[1;33m.\u001b[0m\u001b[0mmean\u001b[0m\u001b[1;33m(\u001b[0m\u001b[1;33m)\u001b[0m\u001b[1;33m)\u001b[0m\u001b[1;33m\u001b[0m\u001b[1;33m\u001b[0m\u001b[0m\n\u001b[0;32m      3\u001b[0m \u001b[1;33m\u001b[0m\u001b[0m\n\u001b[1;32m----> 4\u001b[1;33m \u001b[0mprint\u001b[0m\u001b[1;33m(\u001b[0m\u001b[1;33mf\"\u001b[0m\u001b[1;33mСамара\u001b[0m\u001b[1;33m\"\u001b[0m\u001b[1;33m,\u001b[0m \u001b[0mdoc\u001b[0m\u001b[1;33m[\u001b[0m\u001b[1;34m\"Самарская область\"\u001b[0m\u001b[1;33m]\u001b[0m\u001b[1;33m.\u001b[0m\u001b[0mstats\u001b[0m\u001b[1;33m.\u001b[0m\u001b[0mshapiro\u001b[0m\u001b[1;33m(\u001b[0m\u001b[1;33m)\u001b[0m\u001b[1;33m)\u001b[0m\u001b[1;33m\u001b[0m\u001b[1;33m\u001b[0m\u001b[0m\n\u001b[0m",
      "\u001b[1;32m~\\AppData\\Local\\Packages\\PythonSoftwareFoundation.Python.3.12_qbz5n2kfra8p0\\LocalCache\\local-packages\\Python312\\site-packages\\pandas\\core\\generic.py\u001b[0m in \u001b[0;36m?\u001b[1;34m(self, name)\u001b[0m\n\u001b[0;32m   6295\u001b[0m             \u001b[1;32mand\u001b[0m \u001b[0mname\u001b[0m \u001b[1;32mnot\u001b[0m \u001b[1;32min\u001b[0m \u001b[0mself\u001b[0m\u001b[1;33m.\u001b[0m\u001b[0m_accessors\u001b[0m\u001b[1;33m\u001b[0m\u001b[1;33m\u001b[0m\u001b[0m\n\u001b[0;32m   6296\u001b[0m             \u001b[1;32mand\u001b[0m \u001b[0mself\u001b[0m\u001b[1;33m.\u001b[0m\u001b[0m_info_axis\u001b[0m\u001b[1;33m.\u001b[0m\u001b[0m_can_hold_identifiers_and_holds_name\u001b[0m\u001b[1;33m(\u001b[0m\u001b[0mname\u001b[0m\u001b[1;33m)\u001b[0m\u001b[1;33m\u001b[0m\u001b[1;33m\u001b[0m\u001b[0m\n\u001b[0;32m   6297\u001b[0m         \u001b[1;33m)\u001b[0m\u001b[1;33m:\u001b[0m\u001b[1;33m\u001b[0m\u001b[1;33m\u001b[0m\u001b[0m\n\u001b[0;32m   6298\u001b[0m             \u001b[1;32mreturn\u001b[0m \u001b[0mself\u001b[0m\u001b[1;33m[\u001b[0m\u001b[0mname\u001b[0m\u001b[1;33m]\u001b[0m\u001b[1;33m\u001b[0m\u001b[1;33m\u001b[0m\u001b[0m\n\u001b[1;32m-> 6299\u001b[1;33m         \u001b[1;32mreturn\u001b[0m \u001b[0mobject\u001b[0m\u001b[1;33m.\u001b[0m\u001b[0m__getattribute__\u001b[0m\u001b[1;33m(\u001b[0m\u001b[0mself\u001b[0m\u001b[1;33m,\u001b[0m \u001b[0mname\u001b[0m\u001b[1;33m)\u001b[0m\u001b[1;33m\u001b[0m\u001b[1;33m\u001b[0m\u001b[0m\n\u001b[0m",
      "\u001b[1;31mAttributeError\u001b[0m: 'Series' object has no attribute 'stats'"
     ]
    }
   ],
   "source": [
    "print(f\"Самара: \", doc[\"Самарская область\"].mean())\n",
    "print(f\"ПФО: \", doc[\"Приволжский федеральный округ\"].mean())\n",
    "\n"
   ]
  },
  {
   "cell_type": "code",
   "execution_count": 124,
   "metadata": {},
   "outputs": [],
   "source": [
    "X_tatarstan=doc[\"Республика Татарстан\"]\n",
    "X_Samara=doc[\"Самарская область\"]\n",
    "X_Oren=doc[\"Оренбургская область\"]\n",
    "X_Saratov=doc[\"Саратовская область\"]"
   ]
  },
  {
   "cell_type": "code",
   "execution_count": 125,
   "metadata": {},
   "outputs": [
    {
     "data": {
      "image/png": "[encoded data removed]",
      "text/plain": [
       "<Figure size 640x480 with 1 Axes>"
      ]
     },
     "metadata": {},
     "output_type": "display_data"
    }
   ],
   "source": [
    "f_obs, bins, ignored = plt.hist(X_tatarstan,3)"
   ]
  },
  {
   "cell_type": "code",
   "execution_count": 126,
   "metadata": {},
   "outputs": [
    {
     "data": {
      "image/png": "[encoded data removed]",
      "text/plain": [
       "<Figure size 640x480 with 1 Axes>"
      ]
     },
     "metadata": {},
     "output_type": "display_data"
    }
   ],
   "source": [
    "f_obs, bins, ignored = plt.hist(X_Samara,3)"
   ]
  },
  {
   "cell_type": "code",
   "execution_count": 127,
   "metadata": {},
   "outputs": [
    {
     "name": "stdout",
     "output_type": "stream",
     "text": [
      "ShapiroResult(statistic=np.float64(0.9011174704007119), pvalue=np.float64(0.05097266099641552))\n"
     ]
    }
   ],
   "source": [
    "rez=stats.shapiro(X_tatarstan)\n",
    "print(rez)"
   ]
  },
  {
   "cell_type": "code",
   "execution_count": 128,
   "metadata": {},
   "outputs": [
    {
     "name": "stdout",
     "output_type": "stream",
     "text": [
      "ShapiroResult(statistic=np.float64(0.9353135978383149), pvalue=np.float64(0.21679580296052253))\n"
     ]
    }
   ],
   "source": [
    "rez=stats.shapiro(X_Samara)\n",
    "print(rez)"
   ]
  },
  {
   "cell_type": "code",
   "execution_count": 129,
   "metadata": {},
   "outputs": [
    {
     "name": "stdout",
     "output_type": "stream",
     "text": [
      "ShapiroResult(statistic=np.float64(0.9283685050678381), pvalue=np.float64(0.16159825984253334))\n"
     ]
    }
   ],
   "source": [
    "rez=stats.shapiro(X_Oren)\n",
    "print(rez)"
   ]
  },
  {
   "cell_type": "code",
   "execution_count": 130,
   "metadata": {},
   "outputs": [
    {
     "name": "stdout",
     "output_type": "stream",
     "text": [
      "ShapiroResult(statistic=np.float64(0.9335409347717947), pvalue=np.float64(0.201193794269453))\n"
     ]
    }
   ],
   "source": [
    "rez=stats.shapiro(X_Saratov)\n",
    "print(rez)"
   ]
  },
  {
   "cell_type": "code",
   "execution_count": 131,
   "metadata": {},
   "outputs": [
    {
     "data": {
      "text/plain": [
       "BartlettResult(statistic=np.float64(5.751812629750622), pvalue=np.float64(0.12432960790851283))"
      ]
     },
     "execution_count": 131,
     "metadata": {},
     "output_type": "execute_result"
    }
   ],
   "source": [
    "res = stats.bartlett(X_tatarstan,X_Samara,X_Oren, X_Saratov)\n",
    "res"
   ]
  },
  {
   "cell_type": "code",
   "execution_count": 132,
   "metadata": {},
   "outputs": [
    {
     "name": "stdout",
     "output_type": "stream",
     "text": [
      "alpha:  0.05\n",
      "Tukey's HSD Pairwise Group Comparisons (95.0% Confidence Interval)\n",
      "Comparison  Statistic  p-value  Lower CI  Upper CI\n",
      " (0 - 1)     -4.379     0.000    -5.716    -3.042\n",
      " (0 - 2)     -6.263     0.000    -7.600    -4.926\n",
      " (0 - 3)     -7.874     0.000    -9.211    -6.537\n",
      " (1 - 0)      4.379     0.000     3.042     5.716\n",
      " (1 - 2)     -1.884     0.002    -3.221    -0.547\n",
      " (1 - 3)     -3.495     0.000    -4.832    -2.158\n",
      " (2 - 0)      6.263     0.000     4.926     7.600\n",
      " (2 - 1)      1.884     0.002     0.547     3.221\n",
      " (2 - 3)     -1.611     0.012    -2.948    -0.273\n",
      " (3 - 0)      7.874     0.000     6.537     9.211\n",
      " (3 - 1)      3.495     0.000     2.158     4.832\n",
      " (3 - 2)      1.611     0.012     0.273     2.948\n",
      "\n"
     ]
    }
   ],
   "source": [
    "alpha=0.05\n",
    "print('alpha: ',alpha)\n",
    "from scipy.stats import tukey_hsd\n",
    "res = tukey_hsd(X_tatarstan,X_Samara,X_Oren, X_Saratov)\n",
    "print(res)"
   ]
  },
  {
   "cell_type": "code",
   "execution_count": 133,
   "metadata": {},
   "outputs": [
    {
     "data": {
      "text/plain": [
       "(np.float64(43.336842105263166),\n",
       " np.float64(46.473684210526315),\n",
       " np.float64(1.6533503111748542))"
      ]
     },
     "execution_count": 133,
     "metadata": {},
     "output_type": "execute_result"
    }
   ],
   "source": [
    "alpha=0.05\n",
    "X_tatarstan=doc[\"Республика Татарстан\"]\n",
    "## print(X_tatarstan)\n",
    "mean_tatarstan=np.mean(X_tatarstan)\n",
    "std_tatarstan=np.std(X_tatarstan,ddof=1)\n",
    "a_0=np.mean(doc[\"Приволжский федеральный округ\"])\n",
    "(mean_tatarstan,a_0,std_tatarstan)\n"
   ]
  },
  {
   "cell_type": "code",
   "execution_count": 134,
   "metadata": {},
   "outputs": [
    {
     "name": "stdout",
     "output_type": "stream",
     "text": [
      "-8.26998225740159 7.613533966900695e-08\n"
     ]
    }
   ],
   "source": [
    "### H_0: M(X_tatarstan) = a_0\n",
    "### H_1: M(X_tatarstan) < a_0\n",
    "############################################\n",
    "### If pvalue>alpha => H_0 adopted\n",
    "### If pvalue<=alpha => H_0 rejected and H_1 adopted\n",
    "\n",
    "n=len(X_tatarstan)\n",
    "T_nabl=(mean_tatarstan-a_0)/std_tatarstan*math.sqrt(n)\n",
    "p_value=stats.t.cdf(T_nabl,df=n-1)\n",
    "print(T_nabl,p_value)"
   ]
  },
  {
   "cell_type": "code",
   "execution_count": 135,
   "metadata": {},
   "outputs": [
    {
     "name": "stdout",
     "output_type": "stream",
     "text": [
      "TtestResult(statistic=np.float64(-8.26998225740159), pvalue=np.float64(7.613533966900695e-08), df=np.int64(18))\n"
     ]
    }
   ],
   "source": [
    "res=stats.ttest_1samp(X_tatarstan,popmean=a_0,alternative='less')\n",
    "print(res)"
   ]
  },
  {
   "cell_type": "code",
   "execution_count": 152,
   "metadata": {},
   "outputs": [
    {
     "data": {
      "text/plain": [
       "(np.float64(43.336842105263166), np.float64(47.71578947368421))"
      ]
     },
     "execution_count": 152,
     "metadata": {},
     "output_type": "execute_result"
    }
   ],
   "source": [
    "X_tatarstan=doc[\"Республика Татарстан\"]\n",
    "X_Samara=doc[\"Самарская область\"]\n",
    "X_PFO = doc[\"Приволжский федеральный округ\"]\n",
    "(np.mean(X_tatarstan),np.mean(X_Samara))"
   ]
  },
  {
   "cell_type": "code",
   "execution_count": 154,
   "metadata": {},
   "outputs": [
    {
     "data": {
      "text/plain": [
       "TtestResult(statistic=np.float64(-4.1388649402515725), pvalue=np.float64(0.9998996870908649), df=np.float64(36.0))"
      ]
     },
     "execution_count": 154,
     "metadata": {},
     "output_type": "execute_result"
    }
   ],
   "source": [
    "stats.ttest_ind(X_PFO, X_Samara, alternative = 'greater')"
   ]
  },
  {
   "cell_type": "code",
   "execution_count": 137,
   "metadata": {},
   "outputs": [
    {
     "data": {
      "text/plain": [
       "(np.float64(2.5896952908587245), np.float64(1.0044875346260398))"
      ]
     },
     "execution_count": 137,
     "metadata": {},
     "output_type": "execute_result"
    }
   ],
   "source": [
    "(np.var(X_tatarstan),np.var(X_Samara))"
   ]
  },
  {
   "cell_type": "code",
   "execution_count": 138,
   "metadata": {},
   "outputs": [
    {
     "data": {
      "text/plain": [
       "BartlettResult(statistic=np.float64(3.788544892685177), pvalue=np.float64(0.05160449172372651))"
      ]
     },
     "execution_count": 138,
     "metadata": {},
     "output_type": "execute_result"
    }
   ],
   "source": [
    "alpha=0.05\n",
    "### H_0: D(X_tatarstan) = D(X_Samara)\n",
    "### H_1: D(X_tatarstan) > D(X_Samara)\n",
    "res = stats.bartlett(X_tatarstan,X_Samara)\n",
    "res"
   ]
  },
  {
   "cell_type": "code",
   "execution_count": 139,
   "metadata": {},
   "outputs": [
    {
     "name": "stdout",
     "output_type": "stream",
     "text": [
      "TtestResult(statistic=np.float64(-9.799544639650781), pvalue=np.float64(5.3205976761527e-12), df=np.float64(36.0))\n"
     ]
    }
   ],
   "source": [
    "###############\n",
    "###### На предыдущем шаге выяснили, что  гипотеза\n",
    "## H_0: D(X_tatarstan) = D(X_Samara)  согласуется с данными выборок\n",
    "### Поэтому можно проверить гипотезу о равенстве средних с помощью T-критерия\n",
    "alpha=0.05\n",
    "### H_0: M(X_tatarstan) = M(X_Samara)\n",
    "### H_1: M(X_tatarstan) <  M(X_Samara)\n",
    "############################################\n",
    "### If pvalue>alpha => H_0 adopted\n",
    "### If pvalue<=alpha => H_0 rejected and H_1 adopted\n",
    "res=stats.ttest_ind(X_tatarstan,X_Samara,alternative='less')\n",
    "print(res) "
   ]
  },
  {
   "cell_type": "code",
   "execution_count": 140,
   "metadata": {},
   "outputs": [
    {
     "name": "stdout",
     "output_type": "stream",
     "text": [
      "TtestResult(statistic=np.float64(9.799544639650781), pvalue=np.float64(5.3205976761527e-12), df=np.float64(36.0))\n"
     ]
    }
   ],
   "source": [
    "### H_0: M(X_Samara)= M(X_tatarstan) \n",
    "### H_1:  M(X_Samara) > M(X_tatarstan)\n",
    "############################################\n",
    "### If pvalue>alpha => H_0 adopted\n",
    "### If pvalue<=alpha => H_0 rejected and H_1 adopted\n",
    "alpha=0.05\n",
    "res=stats.ttest_ind(X_Samara,X_tatarstan,alternative='greater')\n",
    "print(res)"
   ]
  },
  {
   "cell_type": "code",
   "execution_count": 141,
   "metadata": {},
   "outputs": [],
   "source": [
    "###### THE END_08_11_2024 ###############"
   ]
  }
 ],
 "metadata": {
  "anaconda-cloud": {},
  "hide_input": false,
  "kernelspec": {
   "display_name": "Python 3",
   "language": "python",
   "name": "python3"
  },
  "language_info": {
   "codemirror_mode": {
    "name": "ipython",
    "version": 3
   },
   "file_extension": ".py",
   "mimetype": "text/x-python",
   "name": "python",
   "nbconvert_exporter": "python",
   "pygments_lexer": "ipython3",
   "version": "3.12.7"
  },
  "toc": {
   "base_numbering": 1,
   "nav_menu": {},
   "number_sections": true,
   "sideBar": true,
   "skip_h1_title": false,
   "title_cell": "Table of Contents",
   "title_sidebar": "Contents",
   "toc_cell": false,
   "toc_position": {
    "height": "calc(100% - 180px)",
    "left": "10px",
    "top": "150px",
    "width": "301.783px"
   },
   "toc_section_display": true,
   "toc_window_display": true
  }
 },
 "nbformat": 4,
 "nbformat_minor": 1
}
